{
 "cells": [
  {
   "cell_type": "code",
   "execution_count": 6,
   "metadata": {},
   "outputs": [
    {
     "name": "stderr",
     "output_type": "stream",
     "text": [
      "C:\\Users\\Abhinaya\\AppData\\Local\\Temp\\ipykernel_7028\\371695762.py:16: DeprecationWarning: Due to a bug, this method doesn't actually stream the response content, `.with_streaming_response.method()` should be used instead\n",
      "  response.stream_to_file(speech_file_path)\n"
     ]
    }
   ],
   "source": [
    "from pathlib import Path\n",
    "from openai import OpenAI\n",
    "client = OpenAI()\n",
    "\n",
    "speech_file_path = Path('C:/Users/Abhinaya/openai tests/TTS Output').parent/'spanish_speech.mp3'\n",
    "# Path(__file__).parent / \"speech.mp3\"\n",
    "response = client.audio.speech.create(\n",
    "  model=\"tts-1\",\n",
    "  voice=\"nova\",\n",
    "  input=\"In the heart of bustling New York City, there's a quaint little café called La Estrella. It's a hidden gem where people come to unwind and enjoy a taste of authentic Spanish culture. Amidst the aroma of freshly brewed coffee and the sound of lively chatter, you'll find María and Juan, sipping on their café con leche and reminiscing about their days back in Barcelona. As they catch up on each other's lives, their conversation effortlessly switches between English and Spanish, adding a touch of warmth and nostalgia to the bustling atmosphere of the café.\"\n",
    "  #\"The sun painted the sky in vibrant hues of orange and pink as it dipped below the horizon, casting a warm glow over the bustling city below. The streets were alive with energy, filled with the cheerful chatter of people going about their day. Laughter echoed from every corner, mingling with the rhythmic beats of music drifting from nearby cafes. Smiles adorned the faces of strangers, united by the simple joy of being alive in this moment. As I took it all in, a wave of optimism washed over me, filling my heart with gratitude for the beauty that surrounds us each day. In a world brimming with possibilities, anything feels achievable, and happiness is just a heartbeat away.\"\n",
    "  # \"Physicist Freeman Dyson once explained that what’s often attributed to the supernatural, or magic, or miracles, is actually just basic math. In any normal person’s life, miracles should occur at the rate of roughly one per month: The proof of the law is simple. During the time that we are awake and actively engaged in living our lives, roughly for eight hours each day, we see and hear things happening at a rate of one per second. So the total number of events that happen to us is about 30,000 per day, or about a million per month. If the chance of a “miracle” is one in a million, we should therefore experience one per month, on average.\" #Morgan Housel Same as Ever\n",
    "  #\"Today is a wonderful day to build something people love!\"\n",
    ")\n",
    "\n",
    "response.stream_to_file(speech_file_path)\n",
    "#with_streaming_response.method(speech_file_path)\n",
    "\n",
    "\n"
   ]
  }
 ],
 "metadata": {
  "kernelspec": {
   "display_name": "base",
   "language": "python",
   "name": "python3"
  },
  "language_info": {
   "codemirror_mode": {
    "name": "ipython",
    "version": 3
   },
   "file_extension": ".py",
   "mimetype": "text/x-python",
   "name": "python",
   "nbconvert_exporter": "python",
   "pygments_lexer": "ipython3",
   "version": "3.8.13"
  }
 },
 "nbformat": 4,
 "nbformat_minor": 2
}
